{
 "cells": [
  {
   "cell_type": "code",
   "execution_count": null,
   "metadata": {
    "collapsed": true
   },
   "outputs": [],
   "source": [
    "import os\n",
    "import boto3\n",
    "import json\n",
    "from faker import Faker\n",
    "from geolite2 import geolite2\n",
    "import random\n",
    "from IPython.display import clear_output\n",
    "import time"
   ]
  },
  {
   "cell_type": "code",
   "execution_count": null,
   "metadata": {
    "collapsed": true
   },
   "outputs": [],
   "source": [
    "path = 'aclImdb/train/unsup'\n",
    "files = os.listdir(path)\n",
    "faker = Faker()"
   ]
  },
  {
   "cell_type": "code",
   "execution_count": null,
   "metadata": {
    "collapsed": true
   },
   "outputs": [],
   "source": [
    "file = os.path.join('aclImdb', '1990-2015-movie-titles.txt')\n",
    "with open(file, 'r') as fin:\n",
    "    lines = fin.readlines()\n",
    "    titles = [line.split('\\t').pop()[:-1] for line in lines]\n",
    "num_title = len(titles)"
   ]
  },
  {
   "cell_type": "code",
   "execution_count": null,
   "metadata": {
    "collapsed": true
   },
   "outputs": [],
   "source": [
    "client = boto3.client(service_name='firehose', region_name='us-east-1')"
   ]
  },
  {
   "cell_type": "code",
   "execution_count": null,
   "metadata": {
    "collapsed": true
   },
   "outputs": [],
   "source": [
    "def deep_get(_dict, keys, default=None):\n",
    "    for key in keys:\n",
    "        if isinstance(_dict, dict):\n",
    "            _dict = _dict.get(key, default)\n",
    "        else:\n",
    "            return default\n",
    "    return _dict"
   ]
  },
  {
   "cell_type": "code",
   "execution_count": null,
   "metadata": {},
   "outputs": [],
   "source": [
    "%time\n",
    "i = 0\n",
    "text_list = []\n",
    "reader = geolite2.reader()\n",
    "\n",
    "for file in files:\n",
    "    i += 1\n",
    "    if i < 1 or i > 1100000: continue\n",
    "    file = os.path.join(path, file)\n",
    "    fsize = os.path.getsize(file)\n",
    "    if fsize >= 5000:\n",
    "        continue\n",
    "    with open(file, 'r') as fin:\n",
    "        text = fin.read()\n",
    "        text = text.replace('<br /><br />', ' ')\n",
    "    \n",
    "    # randomly pick up a title that is less than 20 characters (longer name can not fit in small dashboard)\n",
    "    title = ' ' * 30\n",
    "    while len(title) > 20:\n",
    "        j = random.randint(0, num_title - 1)\n",
    "        title = titles[j]\n",
    "    \n",
    "    # generate ip\n",
    "    info = {}\n",
    "    while not info:\n",
    "        ip = faker.ipv4()\n",
    "        info = reader.get(ip)\n",
    "    \n",
    "    # generate geo info    \n",
    "    continent_name = deep_get(info, ['continent', 'names', 'en'])\n",
    "    country_iso_code = deep_get(info, ['country', 'iso_code'])\n",
    "    region_name = info.get('subdivisions')[0]['names']['en'] if info.get('subdivisions') else None\n",
    "    city_name = deep_get(info, ['city', 'names', 'en'])\n",
    "    timezone = deep_get(info, ['location', 'time_zone'])\n",
    "    location = {'lat': info['location']['latitude'], 'lon': info['location']['longitude']} if info.get('location')\\\n",
    "               else None\n",
    "\n",
    "    geoip = {}\n",
    "    if continent_name: geoip['continent_name'] = continent_name\n",
    "    if country_iso_code: geoip['country_iso_code'] = country_iso_code\n",
    "    if region_name: geoip['region_name'] = region_name\n",
    "    if city_name: geoip['city_name'] = city_name\n",
    "    if timezone: geoip['timezone'] = timezone\n",
    "    if location: geoip['location'] = location\n",
    "    \n",
    "    # construct payload sent to kinesis firehose\n",
    "    payload = {\n",
    "        'text': text,\n",
    "        'title': title,\n",
    "        'ip_addr': ip,\n",
    "        'geoip': geoip\n",
    "    }\n",
    "    \n",
    "    clear_output(wait=True)\n",
    "    print('processing review #{}'.format(i))\n",
    "    \n",
    "    # send payload to kinesis firehose\n",
    "    client.put_record(DeliveryStreamName='review-stream', Record={'Data':json.dumps(payload)})\n"
   ]
  },
  {
   "cell_type": "code",
   "execution_count": null,
   "metadata": {
    "collapsed": true
   },
   "outputs": [],
   "source": []
  }
 ],
 "metadata": {
  "kernelspec": {
   "display_name": "conda_python3",
   "language": "python",
   "name": "conda_python3"
  },
  "language_info": {
   "codemirror_mode": {
    "name": "ipython",
    "version": 3
   },
   "file_extension": ".py",
   "mimetype": "text/x-python",
   "name": "python",
   "nbconvert_exporter": "python",
   "pygments_lexer": "ipython3",
   "version": "3.6.2"
  }
 },
 "nbformat": 4,
 "nbformat_minor": 2
}
